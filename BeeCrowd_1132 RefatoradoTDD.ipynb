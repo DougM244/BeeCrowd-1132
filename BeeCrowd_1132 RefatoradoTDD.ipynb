{
  "nbformat": 4,
  "nbformat_minor": 0,
  "metadata": {
    "colab": {
      "provenance": [],
      "authorship_tag": "ABX9TyNc/j0GebJv8gtUYWI/rOSF",
      "include_colab_link": true
    },
    "kernelspec": {
      "name": "python3",
      "display_name": "Python 3"
    },
    "language_info": {
      "name": "python"
    }
  },
  "cells": [
    {
      "cell_type": "markdown",
      "metadata": {
        "id": "view-in-github",
        "colab_type": "text"
      },
      "source": [
        "<a href=\"https://colab.research.google.com/github/GhostM244/BeeCrowd-1132/blob/main/BeeCrowd_1132%20RefatoradoTDD.ipynb\" target=\"_parent\"><img src=\"https://colab.research.google.com/assets/colab-badge.svg\" alt=\"Open In Colab\"/></a>"
      ]
    },
    {
      "cell_type": "code",
      "execution_count": 18,
      "metadata": {
        "id": "RfoGjEmwbYJU"
      },
      "outputs": [],
      "source": [
        "x = int(input())\n",
        "y = int(input())\n",
        "\n",
        "if x > y:\n",
        "    a = y\n",
        "    b = x\n",
        "    \n",
        "if x <= y:\n",
        "    a = x\n",
        "    b = y\n",
        "    \n",
        "soma = 0\n",
        "\n",
        "\n",
        "while a <=b:\n",
        "    if a % 13 != 0:\n",
        "        soma = soma + a\n",
        "    a = a + 1\n",
        "print(soma)\n",
        "\n",
        "def beecrowd_1132(a, b):\n",
        "  if a > b: a, b=b, a\n",
        "  soma = 0\n",
        "  for i in range (a,b+1):\n",
        "    if i % 13 != 0:soma += i\n",
        "  return soma\n",
        "\n",
        "import unittest\n",
        "\n",
        "class Multiplos13(unittest.TestCase):\n",
        "\n",
        "  def test_multiplos13_1(self):\n",
        "    self.assertEsqual(beecrowd_1132(100, 200), 13954)\n",
        "  \n",
        "  def test_multiplos13_2(self):\n",
        "    self.assertEqual(beecrowd_1132(70,120), 4455)\n",
        "\n",
        "  def test_multiplus13_3(self):\n",
        "    self.assertEqual(beecrowd_1132(20, 40), 565)\n",
        "\n",
        "  def test_multiplos13_4(self):\n",
        "    self.assertEqual(beecrowd_1132(-50, -140), -8008)\n",
        "\n",
        "  def test_multiplos13_5(self):\n",
        "      self.assertEqual(beecrowd_1132(-194, -334), -34364)\n",
        "        \n",
        "  def test_multiplos13_6(self):\n",
        "      self.assertEqual(beecrowd_1132(200, 89), 14897)\n",
        "        \n",
        "  def test_multiplos13_7(self):\n",
        "      self.assertEqual(beecrowd_1132(-157, -289), -27384)\n",
        "\n",
        "if __name__ == '__main__':\n",
        "    unittest.main()"
      ]
    }
  ]
}